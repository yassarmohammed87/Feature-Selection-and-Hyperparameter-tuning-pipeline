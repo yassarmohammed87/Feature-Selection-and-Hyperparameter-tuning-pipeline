{
 "cells": [
  {
   "cell_type": "markdown",
   "metadata": {},
   "source": [
    "<strong><font size=\"5\">End To End Machine Learning pipeline with Feature selection and Hyperparameter tuning</font></strong>\n",
    "\n",
    "\n",
    "    \n",
    "<font size=\"3\">Instructions:</font>    \n",
    "\n",
    "\n",
    "Pipeline takes following parameters:\n",
    "\n",
    "\n",
    "1)<b>label_name</b>:str Complusory\n",
    " \n",
    "\n",
    "<strong>------------------------------------------------------------------------------------------------</strong>\n",
    " \n",
    "2)<b>algo</b>:str\n",
    "\n",
    "Algorithm to use to train models.(Current available options 1.Random Forest;2.Logistic Regression)\n",
    "\n",
    "\n",
    "<strong>-----------------------------------------------------------------------------------------------------</strong>\n",
    "\n",
    "\n",
    "3)<b>scoring</b> :str \n",
    "  \n",
    "metric to maximize\n",
    "\n",
    "\n",
    "<strong>----------------------------------------------------------------------------------------------------</strong>\n",
    "\n",
    "\n",
    "4)<b>categorical_cols</b>:List(str) default:[]\n",
    "  \n",
    "List of Columns to convert to Ordinal values\n",
    "\n",
    "\n",
    "<strong>-----------------------------------------------------------------------------------------------------</strong>\n",
    "\n",
    "\n",
    "\n",
    "5)<b>want_preprocess</b>:bool default:True\n",
    " \n",
    "Whether to avail preprocessing provided by the pipeline\n",
    "\n",
    "\n",
    "<strong>----------------------------------------------------------------------------------------------------</strong>\n",
    "\n",
    "\n",
    "\n",
    "6)<b>first iter</b>:bool default:False\n",
    "\n",
    "Train base models\n",
    "\n",
    "<strong><font size=\"2\">Note</font>:Only set true while running code for first time or using a previously unused \n",
    "    \n",
    "algorithm(set by algo parameter) and scoring for the first time.</strong>\n",
    "<break>\n",
    "<break>\n",
    "<break>\n",
    "\n",
    "<strong>---------------------------------------------------------------------------------------------------------</strong>    \n",
    "    \n",
    "7)<b>want_train</b>:bool default:False\n",
    "\n",
    "train models on transformed dataset\n",
    "\n",
    "<strong><font size=\"2\">Note</font>:Setting this to true will trains models and stores them in your current directory</strong>\n",
    "\n",
    "Can access the estimator trained on best features through the varialbe self.best_estimator\n",
    "\n",
    "    \n",
    "    \n",
    "<strong>---------------------------------------------------------------------------------------------------------</strong>\n",
    "\n",
    "\n",
    "8)<b>recheck</b>:bool default:False\n",
    "<p>\n",
    "recompute best features\n",
    "\n",
    "<strong><font size=\"2\">Note</font>:Setting this to true will trains models and stores them in your current directory</strong>\n",
    "</p> \n",
    "    "
   ]
  },
  {
   "cell_type": "code",
   "execution_count": 48,
   "metadata": {},
   "outputs": [],
   "source": [
    "import import_ipynb\n",
    "from Full_Pipeline import Pipeline\n",
    "import matplotlib.pyplot as plt\n",
    "%matplotlib inline"
   ]
  },
  {
   "cell_type": "code",
   "execution_count": 39,
   "metadata": {},
   "outputs": [
    {
     "name": "stderr",
     "output_type": "stream",
     "text": [
      "F:\\Anaconda\\envs\\tensor 2\\lib\\site-packages\\pandas\\core\\frame.py:4174: SettingWithCopyWarning: \n",
      "A value is trying to be set on a copy of a slice from a DataFrame\n",
      "\n",
      "See the caveats in the documentation: https://pandas.pydata.org/pandas-docs/stable/user_guide/indexing.html#returning-a-view-versus-a-copy\n",
      "  errors=errors,\n"
     ]
    }
   ],
   "source": [
    "ordi_cols=['gender','ever_married','Residence_type', 'smoking_status']\n",
    "selector=Pipeline('stroke',algo='Random_Forest',scoring='roc_auc',categorical_cols=ordi_cols)\n",
    "trainingdata,traininglabel=selector.fit_transform('stroke2.csv')\n",
    "# print(boardgamestrain)"
   ]
  },
  {
   "cell_type": "code",
   "execution_count": 51,
   "metadata": {},
   "outputs": [
    {
     "data": {
      "image/png": "[encoded data removed]",
      "text/plain": [
       "<Figure size 432x288 with 1 Axes>"
      ]
     },
     "metadata": {
      "needs_background": "light"
     },
     "output_type": "display_data"
    }
   ],
   "source": [
    "\n",
    "selector.predict_and_plot('plot_roc_curve',trainingdata,traininglabel,selector.best_estimator)\n",
    "plt.show()"
   ]
  },
  {
   "cell_type": "code",
   "execution_count": 41,
   "metadata": {},
   "outputs": [
    {
     "data": {
      "text/plain": [
       "array([1., 0., 0., ..., 1., 1., 0.])"
      ]
     },
     "execution_count": 41,
     "metadata": {},
     "output_type": "execute_result"
    }
   ],
   "source": [
    "selector.predict_and_plot('predictions',trainingdata,traininglabel,selector.best_estimator)"
   ]
  },
  {
   "cell_type": "code",
   "execution_count": 42,
   "metadata": {},
   "outputs": [
    {
     "data": {
      "text/plain": [
       "1.0"
      ]
     },
     "execution_count": 42,
     "metadata": {},
     "output_type": "execute_result"
    }
   ],
   "source": [
    "selector.predict_and_plot('accuracy_score',trainingdata,traininglabel,selector.best_estimator)"
   ]
  },
  {
   "cell_type": "code",
   "execution_count": 43,
   "metadata": {},
   "outputs": [
    {
     "data": {
      "text/plain": [
       "1.0"
      ]
     },
     "execution_count": 43,
     "metadata": {},
     "output_type": "execute_result"
    }
   ],
   "source": [
    "selector.predict_and_plot('precision_score',trainingdata,traininglabel,selector.best_estimator)"
   ]
  },
  {
   "cell_type": "code",
   "execution_count": 44,
   "metadata": {},
   "outputs": [
    {
     "data": {
      "text/plain": [
       "1.0"
      ]
     },
     "execution_count": 44,
     "metadata": {},
     "output_type": "execute_result"
    }
   ],
   "source": [
    "selector.predict_and_plot('recall_score',trainingdata,traininglabel,selector.best_estimator)"
   ]
  },
  {
   "cell_type": "code",
   "execution_count": 45,
   "metadata": {},
   "outputs": [
    {
     "data": {
      "text/plain": [
       "1.0"
      ]
     },
     "execution_count": 45,
     "metadata": {},
     "output_type": "execute_result"
    }
   ],
   "source": [
    "selector.predict_and_plot('roc_auc_score',trainingdata,traininglabel,selector.best_estimator)"
   ]
  },
  {
   "cell_type": "code",
   "execution_count": 46,
   "metadata": {},
   "outputs": [
    {
     "data": {
      "image/png": "[encoded data removed]",
      "text/plain": [
       "<Figure size 432x288 with 2 Axes>"
      ]
     },
     "metadata": {
      "needs_background": "light"
     },
     "output_type": "display_data"
    }
   ],
   "source": [
    "selector.predict_and_plot('confusion_matrix',trainingdata,traininglabel,selector.best_estimator)"
   ]
  }
 ],
 "metadata": {
  "kernelspec": {
   "display_name": "Python 3",
   "language": "python",
   "name": "python3"
  },
  "language_info": {
   "codemirror_mode": {
    "name": "ipython",
    "version": 3
   },
   "file_extension": ".py",
   "mimetype": "text/x-python",
   "name": "python",
   "nbconvert_exporter": "python",
   "pygments_lexer": "ipython3",
   "version": "3.7.9"
  }
 },
 "nbformat": 4,
 "nbformat_minor": 4
}
