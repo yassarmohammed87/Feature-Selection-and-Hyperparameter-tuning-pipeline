{
 "cells": [
  {
   "cell_type": "markdown",
   "metadata": {},
   "source": [
    "<strong><font size=\"5\">End To End Machine Learning pipeline with Feature selection and Hyperparameter tuning</font></strong><br><br>\n",
    "\n",
    "\n",
    "<strong><font size=\"3\">Introduction</strong></font><br><br>\n",
    "\n",
    "An end to end machine learning pipeline which takes path to a csv file as the input and returns a dataframe with best features.<br><br>\n",
    "Along with feature selection the pipeline also provides features like:<br><br>\n",
    "<font color='blue'>1)Preprocessing the entire dataset<br><br>\n",
    "2)Balance the Dataset.<br><br>\n",
    "3)Split into training data and testing data.<br><br>\n",
    "4)Normalizing the Data.<br><br>\n",
    "5)Dealing N/A values.<br><br>\n",
    "6)Train models(Random Forest and logistic Regression) on the dataset with the best selected features.<br><br>\n",
    "7)Various Data visualization tasks</font><br><br><br><br>\n",
    "    \n",
    "<strong><font size=\"3\">Instructions:</font><br><br><br><br></strong>\n",
    "\n",
    "\n",
    "<font size=\"2\">Note:Before running code install required packages mentioned in requirements.txt file.This can be done by running the command <strong>\"pip install -r requirements.txt\"</strong><font size=\"2\"><br><br><br>\n",
    "\n",
    "\n",
    "Pipeline takes following parameters:<br><br><br>\n",
    "\n",
    "\n",
    "1)<b>label_name</b>:str Complusory\n",
    " \n",
    "\n",
    "<strong>------------------------------------------------------------------------------------------------</strong><br><br><br>\n",
    " \n",
    "2)<b>algo</b>:str\n",
    "\n",
    "Algorithm to use to train models.(Current available options 1.Random Forest;2.Logistic Regression)\n",
    "\n",
    "\n",
    "<strong>-----------------------------------------------------------------------------------------------------</strong><br><br><br>\n",
    "\n",
    "\n",
    "3)<b>scoring</b> :str \n",
    "  \n",
    "metric to maximize\n",
    "\n",
    "\n",
    "<strong>----------------------------------------------------------------------------------------------------</strong><br><br><br>\n",
    "\n",
    "\n",
    "4)<b>categorical_cols</b>:List(str) default:[]\n",
    "  \n",
    "List of Columns to convert to Ordinal values\n",
    "\n",
    "\n",
    "<strong>-----------------------------------------------------------------------------------------------------</strong><br><br><br>\n",
    "\n",
    "\n",
    "\n",
    "5)<b>want_preprocess</b>:bool default:True\n",
    " \n",
    "Whether to avail preprocessing provided by the pipeline\n",
    "\n",
    "\n",
    "<strong>----------------------------------------------------------------------------------------------------</strong><br><br><br>\n",
    "\n",
    "\n",
    "\n",
    "6)<b>first iter</b>:bool default:False\n",
    "\n",
    "Train base models\n",
    "\n",
    "<strong><font size=\"2\" color='red'>Note:Only set true while running code for first time or using a previously unused\n",
    "    \n",
    "algorithm(set by algo parameter) and scoring for the first time.</strong></font>\n",
    "<break>\n",
    "<break>\n",
    "<break>\n",
    "\n",
    "<strong>---------------------------------------------------------------------------------------------------------</strong><br><br><br>    \n",
    "    \n",
    "7)<b>want_train</b>:bool default:False\n",
    "\n",
    "train models on transformed dataset\n",
    "\n",
    "<strong><font size=\"2\" color='red'>Note:Setting this to true will trains models and stores them in your current directory</strong></font>\n",
    "\n",
    "Can access the estimator trained on best features through the varialbe self.best_estimator\n",
    "\n",
    "    \n",
    "    \n",
    "<strong>---------------------------------------------------------------------------------------------------------</strong><br><br><br>\n",
    "\n",
    "\n",
    "8)<b>recheck</b>:bool default:False\n",
    "<p>\n",
    "recompute best features\n",
    "\n",
    "<strong><font size=\"2\" color='red'>Note:Setting this to true will train models and stores them in your current directory</strong></font><br><br>\n",
    "    \n",
    "    \n",
    "<font size=\"2\" color='green'>For More Details on parameters refer to comments in the Full_Pipeline</font>\n",
    "\n",
    "\n",
    " \n",
    "    "
   ]
  },
  {
   "cell_type": "markdown",
   "metadata": {},
   "source": [
    "<font size='5'><strong>CODE</font></strong><br>"
   ]
  },
  {
   "cell_type": "code",
   "execution_count": 1,
   "metadata": {},
   "outputs": [
    {
     "name": "stdout",
     "output_type": "stream",
     "text": [
      "importing Jupyter notebook from Full_Pipeline.ipynb\n"
     ]
    }
   ],
   "source": [
    "import import_ipynb\n",
    "from Full_Pipeline import Pipeline\n",
    "import matplotlib.pyplot as plt\n",
    "import warnings; warnings.simplefilter('ignore')\n",
    "%matplotlib inline"
   ]
  },
  {
   "cell_type": "code",
   "execution_count": 3,
   "metadata": {},
   "outputs": [
    {
     "name": "stdout",
     "output_type": "stream",
     "text": [
      "Index(['id', 'gender', 'age', 'hypertension', 'heart_disease', 'ever_married',\n",
      "       'Residence_type', 'avg_glucose_level', 'bmi', 'smoking_status',\n",
      "       'stroke'],\n",
      "      dtype='object')\n",
      "Fitting 3 folds for each of 50 candidates, totalling 150 fits\n",
      "Fitting 3 folds for each of 40 candidates, totalling 120 fits\n"
     ]
    }
   ],
   "source": [
    "ordi_cols=['gender','ever_married','Residence_type', 'smoking_status']\n",
    "selector=Pipeline('stroke',algo='Random Forest',scoring='accuracy',categorical_cols=ordi_cols,first_iter=True,recheck=True,want_train=True)\n",
    "trainingdata,traininglabel=selector.fit_transform('stroke2.csv')\n",
    "# print(boardgamestrain)"
   ]
  },
  {
   "cell_type": "code",
   "execution_count": 4,
   "metadata": {},
   "outputs": [
    {
     "data": {
      "text/html": [
       "<div>\n",
       "<style scoped>\n",
       "    .dataframe tbody tr th:only-of-type {\n",
       "        vertical-align: middle;\n",
       "    }\n",
       "\n",
       "    .dataframe tbody tr th {\n",
       "        vertical-align: top;\n",
       "    }\n",
       "\n",
       "    .dataframe thead th {\n",
       "        text-align: right;\n",
       "    }\n",
       "</style>\n",
       "<table border=\"1\" class=\"dataframe\">\n",
       "  <thead>\n",
       "    <tr style=\"text-align: right;\">\n",
       "      <th></th>\n",
       "      <th>avg_glucose_level</th>\n",
       "    </tr>\n",
       "  </thead>\n",
       "  <tbody>\n",
       "    <tr>\n",
       "      <th>0</th>\n",
       "      <td>2.702177</td>\n",
       "    </tr>\n",
       "    <tr>\n",
       "      <th>1</th>\n",
       "      <td>2.118093</td>\n",
       "    </tr>\n",
       "    <tr>\n",
       "      <th>2</th>\n",
       "      <td>-0.005825</td>\n",
       "    </tr>\n",
       "    <tr>\n",
       "      <th>3</th>\n",
       "      <td>1.434752</td>\n",
       "    </tr>\n",
       "    <tr>\n",
       "      <th>4</th>\n",
       "      <td>1.498498</td>\n",
       "    </tr>\n",
       "    <tr>\n",
       "      <th>...</th>\n",
       "      <td>...</td>\n",
       "    </tr>\n",
       "    <tr>\n",
       "      <th>5082</th>\n",
       "      <td>-0.494840</td>\n",
       "    </tr>\n",
       "    <tr>\n",
       "      <th>5083</th>\n",
       "      <td>0.419444</td>\n",
       "    </tr>\n",
       "    <tr>\n",
       "      <th>5084</th>\n",
       "      <td>-0.511604</td>\n",
       "    </tr>\n",
       "    <tr>\n",
       "      <th>5085</th>\n",
       "      <td>1.325788</td>\n",
       "    </tr>\n",
       "    <tr>\n",
       "      <th>5086</th>\n",
       "      <td>-0.461092</td>\n",
       "    </tr>\n",
       "  </tbody>\n",
       "</table>\n",
       "<p>5087 rows × 1 columns</p>\n",
       "</div>"
      ],
      "text/plain": [
       "      avg_glucose_level\n",
       "0              2.702177\n",
       "1              2.118093\n",
       "2             -0.005825\n",
       "3              1.434752\n",
       "4              1.498498\n",
       "...                 ...\n",
       "5082          -0.494840\n",
       "5083           0.419444\n",
       "5084          -0.511604\n",
       "5085           1.325788\n",
       "5086          -0.461092\n",
       "\n",
       "[5087 rows x 1 columns]"
      ]
     },
     "execution_count": 4,
     "metadata": {},
     "output_type": "execute_result"
    }
   ],
   "source": [
    "trainingdata"
   ]
  },
  {
   "cell_type": "markdown",
   "metadata": {},
   "source": [
    "<font size='5'><strong>Results</font></strong><br><br><br>"
   ]
  },
  {
   "cell_type": "markdown",
   "metadata": {},
   "source": [
    "<font size='4'><strong>ROC_AUC_CURVE</font></strong><br>"
   ]
  },
  {
   "cell_type": "code",
   "execution_count": 5,
   "metadata": {},
   "outputs": [
    {
     "data": {
      "image/png": "[encoded data removed]",
      "text/plain": [
       "<Figure size 432x288 with 1 Axes>"
      ]
     },
     "metadata": {
      "needs_background": "light"
     },
     "output_type": "display_data"
    }
   ],
   "source": [
    "selector.predict_and_plot('plot_roc_curve',trainingdata,traininglabel,selector.best_estimator)\n",
    "plt.show()"
   ]
  },
  {
   "cell_type": "markdown",
   "metadata": {},
   "source": [
    "<font size='4'><strong>PREDICTIONS</font></strong><br>"
   ]
  },
  {
   "cell_type": "code",
   "execution_count": 6,
   "metadata": {},
   "outputs": [
    {
     "data": {
      "text/plain": [
       "array([0., 0., 0., ..., 0., 0., 0.])"
      ]
     },
     "execution_count": 6,
     "metadata": {},
     "output_type": "execute_result"
    }
   ],
   "source": [
    "selector.predict_and_plot('predictions',trainingdata,traininglabel,selector.best_estimator)"
   ]
  },
  {
   "cell_type": "markdown",
   "metadata": {},
   "source": [
    "<font size='4'><strong>ACCURACY_SCORE</font></strong><br>"
   ]
  },
  {
   "cell_type": "code",
   "execution_count": 7,
   "metadata": {},
   "outputs": [
    {
     "data": {
      "text/plain": [
       "0.9514448594456457"
      ]
     },
     "execution_count": 7,
     "metadata": {},
     "output_type": "execute_result"
    }
   ],
   "source": [
    "selector.predict_and_plot('accuracy_score',trainingdata,traininglabel,selector.best_estimator)"
   ]
  },
  {
   "cell_type": "markdown",
   "metadata": {},
   "source": [
    "<font size='4'><strong>PRECISION_SCORE</font></strong><br>"
   ]
  },
  {
   "cell_type": "code",
   "execution_count": 8,
   "metadata": {},
   "outputs": [
    {
     "data": {
      "text/plain": [
       "1.0"
      ]
     },
     "execution_count": 8,
     "metadata": {},
     "output_type": "execute_result"
    }
   ],
   "source": [
    "selector.predict_and_plot('precision_score',trainingdata,traininglabel,selector.best_estimator)"
   ]
  },
  {
   "cell_type": "markdown",
   "metadata": {},
   "source": [
    "<font size='4'><strong>RECALL_SCORE</font></strong><br>"
   ]
  },
  {
   "cell_type": "code",
   "execution_count": 9,
   "metadata": {},
   "outputs": [
    {
     "data": {
      "text/plain": [
       "0.008032128514056224"
      ]
     },
     "execution_count": 9,
     "metadata": {},
     "output_type": "execute_result"
    }
   ],
   "source": [
    "selector.predict_and_plot('recall_score',trainingdata,traininglabel,selector.best_estimator)"
   ]
  },
  {
   "cell_type": "markdown",
   "metadata": {},
   "source": [
    "<font size='4'><strong>ROC_AUC_SCORE</font></strong><br>"
   ]
  },
  {
   "cell_type": "code",
   "execution_count": 10,
   "metadata": {},
   "outputs": [
    {
     "data": {
      "text/plain": [
       "0.5040160642570282"
      ]
     },
     "execution_count": 10,
     "metadata": {},
     "output_type": "execute_result"
    }
   ],
   "source": [
    "selector.predict_and_plot('roc_auc_score',trainingdata,traininglabel,selector.best_estimator)"
   ]
  },
  {
   "cell_type": "markdown",
   "metadata": {},
   "source": [
    "<font size='4'><strong>CONFUSION MATRIX</font></strong><br>"
   ]
  },
  {
   "cell_type": "code",
   "execution_count": 46,
   "metadata": {},
   "outputs": [
    {
     "data": {
      "image/png": "[encoded data removed]",
      "text/plain": [
       "<Figure size 432x288 with 2 Axes>"
      ]
     },
     "metadata": {
      "needs_background": "light"
     },
     "output_type": "display_data"
    }
   ],
   "source": [
    "selector.predict_and_plot('confusion_matrix',trainingdata,traininglabel,selector.best_estimator)"
   ]
  }
 ],
 "metadata": {
  "kernelspec": {
   "display_name": "Python 3",
   "language": "python",
   "name": "python3"
  },
  "language_info": {
   "codemirror_mode": {
    "name": "ipython",
    "version": 3
   },
   "file_extension": ".py",
   "mimetype": "text/x-python",
   "name": "python",
   "nbconvert_exporter": "python",
   "pygments_lexer": "ipython3",
   "version": "3.7.9"
  }
 },
 "nbformat": 4,
 "nbformat_minor": 4
}
